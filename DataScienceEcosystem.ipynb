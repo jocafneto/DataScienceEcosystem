{
 "cells": [
  {
   "cell_type": "markdown",
   "id": "f1e5c45d-ff39-458b-beb8-5deeb3e9878c",
   "metadata": {},
   "source": [
    "# Data Science Tools and Ecosystem"
   ]
  },
  {
   "cell_type": "markdown",
   "id": "6ee0c3a3-77ed-486c-bcf3-b66a03f6b521",
   "metadata": {},
   "source": [
    "In this notebook, Data Science Tools and Ecosystem are summarized."
   ]
  },
  {
   "cell_type": "markdown",
   "id": "d7e8be0d-2170-4249-a7d2-ddb4f9838515",
   "metadata": {},
   "source": [
    "**Objectives:**\n",
    "- List popular languages for Data Science\n",
    "- List popular libraries for Data Science\n",
    "- List popular IDE for Data Science\n",
    "- List few examples of evaluating arithmetic expressions in Python"
   ]
  },
  {
   "cell_type": "markdown",
   "id": "2e64a8aa-f0b9-4717-8e01-f8437033d1cf",
   "metadata": {},
   "source": [
    "Some of the popular languages that Data Scientists use are:\n",
    "1. Python\n",
    "2. R\n",
    "3. SQL\n",
    "4. Git"
   ]
  },
  {
   "cell_type": "markdown",
   "id": "d7aae18b-6c9a-4c3c-9ab6-38f71c1c0186",
   "metadata": {},
   "source": [
    "Some of the commonly used libraries used by Data Scientists include:\n",
    "1. pandas\n",
    "2. numpy\n",
    "3. ggplot\n",
    "4. scikit-learn"
   ]
  },
  {
   "cell_type": "markdown",
   "id": "423570a4-5c3a-46c1-809e-dc5378573190",
   "metadata": {},
   "source": [
    "|Data Science Tools|\n",
    "|--------|\n",
    "|Jupyter Notebook|\n",
    "|VSCode|\n",
    "|JupyterLite|\n",
    "|VIM|"
   ]
  },
  {
   "cell_type": "markdown",
   "id": "f38e6d03-c376-4fc2-8778-8d19a345ed47",
   "metadata": {},
   "source": [
    "### Below are a few examples of evaluating arithmetic expressions in Python"
   ]
  },
  {
   "cell_type": "code",
   "execution_count": 4,
   "id": "83b7f091-7757-4134-87b3-126ce913bf52",
   "metadata": {
    "tags": []
   },
   "outputs": [
    {
     "data": {
      "text/plain": [
       "17"
      ]
     },
     "execution_count": 4,
     "metadata": {},
     "output_type": "execute_result"
    }
   ],
   "source": [
    "# This a simple arithmetic expression to mutiply then add integers\n",
    "(3*4)+5"
   ]
  },
  {
   "cell_type": "code",
   "execution_count": 5,
   "id": "ffff679b-555f-408c-a52e-fdee5e3b8d62",
   "metadata": {
    "tags": []
   },
   "outputs": [
    {
     "data": {
      "text/plain": [
       "3.3333333333333335"
      ]
     },
     "execution_count": 5,
     "metadata": {},
     "output_type": "execute_result"
    }
   ],
   "source": [
    "# This will convert 200 minutes to hours by diving by 60\n",
    "200/60"
   ]
  },
  {
   "cell_type": "markdown",
   "id": "248e7094-d1ff-4cec-bc26-02b8437c7179",
   "metadata": {},
   "source": [
    "## Author\n",
    "Joaquim Luiz Fortunato Neto"
   ]
  },
  {
   "cell_type": "code",
   "execution_count": null,
   "id": "ddce0d62-fac2-4267-8fe6-3b15bd4ff263",
   "metadata": {},
   "outputs": [],
   "source": []
  }
 ],
 "metadata": {
  "kernelspec": {
   "display_name": "Python",
   "language": "python",
   "name": "conda-env-python-py"
  },
  "language_info": {
   "codemirror_mode": {
    "name": "ipython",
    "version": 3
   },
   "file_extension": ".py",
   "mimetype": "text/x-python",
   "name": "python",
   "nbconvert_exporter": "python",
   "pygments_lexer": "ipython3",
   "version": "3.7.12"
  }
 },
 "nbformat": 4,
 "nbformat_minor": 5
}
